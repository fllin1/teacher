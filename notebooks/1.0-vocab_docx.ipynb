{
 "cells": [
  {
   "cell_type": "code",
   "execution_count": null,
   "metadata": {},
   "outputs": [],
   "source": [
    "import json\n",
    "import os\n",
    "import re\n",
    "from pathlib import Path\n",
    "\n",
    "import requests\n",
    "from bs4 import BeautifulSoup\n",
    "from docx import Document\n",
    "from tqdm import tqdm\n",
    "import pinyin"
   ]
  },
  {
   "cell_type": "markdown",
   "metadata": {},
   "source": [
    "### Load Data"
   ]
  },
  {
   "cell_type": "code",
   "execution_count": 23,
   "metadata": {},
   "outputs": [],
   "source": [
    "def get_files_name(folder_path: str = \"../data/raw\") -> list:\n",
    "    return [\n",
    "        f\n",
    "        for f in os.listdir(folder_path)\n",
    "        if os.path.isfile(os.path.join(folder_path, f)) and f.endswith(\".docx\")\n",
    "    ]\n",
    "    \n",
    "def read_docx(file_path: str) -> str:\n",
    "    doc = Document(file_path)\n",
    "    full_text = []\n",
    "    for para in doc.paragraphs:\n",
    "        full_text.append(para.text)\n",
    "    return \" \".join(full_text)\n",
    "\n",
    "def save_progress(vocab, path):\n",
    "    with open(path, \"w\", encoding=\"utf-8\") as f:\n",
    "        json.dump(vocab, f, indent=4, ensure_ascii=False)\n",
    "    print(f\"Progress saved to {path}\")"
   ]
  },
  {
   "cell_type": "markdown",
   "metadata": {},
   "source": [
    "### Process the Data"
   ]
  },
  {
   "cell_type": "code",
   "execution_count": null,
   "metadata": {},
   "outputs": [],
   "source": [
    "def extract_vocab(text: str, vocab: dict) -> dict:\n",
    "    for word in text:\n",
    "        word = \"\".join(e for e in word if e.isalnum())\n",
    "        word.replace(\" \", \"\")\n",
    "        if word not in vocab and 0 < len(word) < 12 and \"2024\" not in word:\n",
    "            vocab[word] = {}\n",
    "    return vocab\n",
    "\n",
    "def vocab_list(vocab: str, file_path: str, folder_path: str = \"../data/raw\") -> dict:\n",
    "    text = read_docx(os.path.join(folder_path, file_path))\n",
    "    extracted_vocab = extract_vocab(text.split(\" \"), vocab)\n",
    "    return extracted_vocab\n",
    "\n",
    "def build_vocab_list(vocab: dict = None, folder_path: str = \"data/raw\") -> dict:\n",
    "    files_name = sorted(get_files_name(folder_path))\n",
    "\n",
    "    for file_path in files_name:\n",
    "        vocab = vocab_list(vocab=vocab, file_path=file_path, folder_path=folder_path)\n",
    "\n",
    "    return vocab"
   ]
  },
  {
   "cell_type": "markdown",
   "metadata": {},
   "source": [
    "### Scraping"
   ]
  },
  {
   "cell_type": "code",
   "execution_count": null,
   "metadata": {},
   "outputs": [],
   "source": [
    "def generate_encoded_url(word: str) -> str:\n",
    "    base_url = \"https://chine.in/mandarin/dictionnaire/index.php?mot=\"\n",
    "    encoded_word = \"\".join([f\"%26%23{ord(char)}%3B\" for char in word])\n",
    "    full_url = base_url + encoded_word\n",
    "    return full_url\n",
    "\n",
    "\n",
    "def search_mandarin_dictionary_requests(query: str) -> str:\n",
    "    url = generate_encoded_url(query)\n",
    "    headers = {\n",
    "        \"User-Agent\": (\n",
    "            \"Mozilla/5.0 (Windows NT 10.0; Win64; x64) AppleWebKit/537.36 \"\n",
    "            \"(KHTML, like Gecko) Chrome/87.0.4280.88 Safari/537.36\"\n",
    "        )\n",
    "    }\n",
    "    data = {\"q\": query, \"Submit\": \"1\"}\n",
    "\n",
    "    response = requests.post(url, headers=headers, data=data, timeout=3)\n",
    "    response.raise_for_status()\n",
    "\n",
    "    soup = BeautifulSoup(response.text, \"html.parser\")\n",
    "    results = soup.find_all(class_=\"table invert_img\", id=\"resultats_dico\")\n",
    "    return results[0]"
   ]
  },
  {
   "cell_type": "markdown",
   "metadata": {},
   "source": [
    "### Google translate"
   ]
  },
  {
   "cell_type": "markdown",
   "metadata": {},
   "source": [
    "### Class"
   ]
  },
  {
   "cell_type": "code",
   "execution_count": null,
   "metadata": {},
   "outputs": [],
   "source": [
    "class TraductionExtractor:\n",
    "    def __init__(self, query: str):\n",
    "        self.query = query\n",
    "        self.results_raw = \"\"\n",
    "        self.results_processed = \"\"\n",
    "\n",
    "    def fetch_results(self):\n",
    "        results_raw = search_mandarin_dictionary_requests(self.query)\n",
    "        self.results_raw = str(results_raw)\n",
    "        self.results_processed = results_raw.get_text()\n",
    "\n",
    "    def remove_html_tags(self, text: list) -> list:\n",
    "        return [re.sub(r\"<.*?>\", \"\", s) for s in text]\n",
    "\n",
    "    def extract_between_markers(\n",
    "        self, result: str, start_marker: str, end_marker: str\n",
    "    ) -> str:\n",
    "        start_index = result.find(start_marker)\n",
    "        if start_index == -1:\n",
    "            return None\n",
    "\n",
    "        start_index += len(start_marker)\n",
    "        if end_marker:\n",
    "            end_index = result.find(end_marker, start_index)\n",
    "            if end_index == -1:\n",
    "                return None\n",
    "            return result[start_index:end_index]\n",
    "        else:\n",
    "            return result[start_index:]\n",
    "\n",
    "    def get_traduction(self) -> str:\n",
    "        start_marker = f\"Entrées pour {self.query}\"\n",
    "        end_marker = \"Entrées commençant par\"\n",
    "        traduction = self.extract_between_markers(\n",
    "            result=self.results_raw,\n",
    "            start_marker=start_marker,\n",
    "            end_marker=end_marker,\n",
    "        )\n",
    "\n",
    "        if not traduction:\n",
    "            traduction = self.extract_between_markers(\n",
    "                result=self.results_raw,\n",
    "                start_marker=\"Traduction\",\n",
    "                end_marker=\"Editer (projet CFDICT)\",\n",
    "            )\n",
    "        return traduction\n",
    "\n",
    "    def return_traduction(self):\n",
    "        traduction = self.get_traduction()\n",
    "\n",
    "        if traduction and \"<li>\" in traduction:\n",
    "            traduction = traduction.split(\"</li>\")[:-1]\n",
    "        traduction = self.remove_html_tags(traduction)\n",
    "        return traduction\n",
    "\n",
    "    def get_pinyin(self) -> str:\n",
    "        return pinyin.get(s=self.query, delimiter=\" \")\n",
    "    \n",
    "    def google_translate(self) -> str:\n",
    "        url_params = {\"sl\": \"zh-CN\", \"tl\": \"fr\", \"q\": self.query, \"op\": \"translate\"}\n",
    "        response = requests.get(url=\"https://translate.google.com/m\", params=url_params)\n",
    "        response.raise_for_status()\n",
    "        \n",
    "        soup = BeautifulSoup(response.text, \"html.parser\")\n",
    "        element = soup.find(\"div\", {\"class\": \"result-container\"})\n",
    "        return element.text"
   ]
  },
  {
   "cell_type": "code",
   "execution_count": null,
   "metadata": {},
   "outputs": [],
   "source": [
    "processed_path = Path(\"data/processed/chinese_vocab.json\")\n",
    "\n",
    "if processed_path.exists():\n",
    "    with open(processed_path, \"r\", encoding=\"utf-8\") as f:\n",
    "        existing_vocab = json.load(f)\n",
    "else:\n",
    "    existing_vocab = {}\n",
    "\n",
    "all_vocab = build_vocab_list(vocab=existing_vocab, folder_path=\"data/raw\")\n",
    "\n",
    "try:\n",
    "    for word in tqdm(all_vocab.keys(), desc=\"Processing vocabulary\", unit=\"word\"):\n",
    "        if all_vocab[word] == {}:\n",
    "            extractor = TraductionExtractor(word)\n",
    "            extractor.fetch_results()\n",
    "            traduction = extractor.return_traduction()\n",
    "            pinyin = extractor.get_pinyin()\n",
    "            all_vocab[word][\"traduction\"] = traduction\n",
    "            all_vocab[word][\"pinyin\"] = pinyin\n",
    "except ConnectionError as e:\n",
    "    print(f\"Connection error occurred: {e}\")\n",
    "    save_progress(all_vocab, processed_path)\n",
    "    raise ConnectionError(\"Failed to fetch data. Progress has been saved.\") from e\n",
    "except Exception as e:\n",
    "    print(f\"An unexpected error occurred: {e}\")\n",
    "    save_progress(all_vocab, processed_path)\n",
    "    raise RuntimeError(\"An error occurred. Progress has been saved.\") from e\n",
    "\n",
    "save_progress(all_vocab, processed_path)"
   ]
  },
  {
   "cell_type": "code",
   "execution_count": 52,
   "metadata": {},
   "outputs": [],
   "source": [
    "def open_json_file(file_path: str) -> dict:\n",
    "    with open(file_path, \"r\", encoding=\"utf-8\") as f:\n",
    "        data = json.load(f)\n",
    "    return data\n",
    "\n",
    "chinese_vocab = open_json_file(\"../data/processed/chinese_vocab.json\")"
   ]
  },
  {
   "cell_type": "code",
   "execution_count": 54,
   "metadata": {},
   "outputs": [
    {
     "data": {
      "text/plain": [
       "495"
      ]
     },
     "execution_count": 54,
     "metadata": {},
     "output_type": "execute_result"
    }
   ],
   "source": [
    "character_list = set()\n",
    "for vocab in chinese_vocab:\n",
    "    character_list.add(vocab[\"character\"])\n",
    "len(character_list)"
   ]
  },
  {
   "cell_type": "code",
   "execution_count": 43,
   "metadata": {},
   "outputs": [],
   "source": [
    "def google_translate(query: str) -> str:\n",
    "    url_params = {\"sl\": \"zh-CN\", \"tl\": \"fr\", \"q\": query, \"op\": \"translate\"}\n",
    "    response = requests.get(url=\"https://translate.google.com/m\", params=url_params)\n",
    "    response.raise_for_status()\n",
    "    \n",
    "    soup = BeautifulSoup(response.text, \"html.parser\")\n",
    "    element = soup.find(\"div\", {\"class\": \"result-container\"})\n",
    "    return [element.text]"
   ]
  },
  {
   "cell_type": "code",
   "execution_count": 50,
   "metadata": {},
   "outputs": [],
   "source": [
    "new_vocab = []\n",
    "for key, value in chinese_vocab.items():\n",
    "    word = {\"character\": key, \"traduction\": value.get(\"traduction\"), \"pronunciation\": value.get(\"pinyin\")}\n",
    "    if word[\"traduction\"] == [\"\"]:\n",
    "        word[\"traduction\"] = google_translate(key)\n",
    "    if not word[\"pronunciation\"]:\n",
    "        word[\"pronunciation\"] = pinyin.get(key, delimiter=\" \")\n",
    "    new_vocab.append(word)"
   ]
  },
  {
   "cell_type": "code",
   "execution_count": 51,
   "metadata": {},
   "outputs": [
    {
     "name": "stdout",
     "output_type": "stream",
     "text": [
      "Progress saved to ../data/processed/chinese_vocab.json\n"
     ]
    }
   ],
   "source": [
    "save_progress(new_vocab, Path(\"../data/processed/chinese_vocab.json\"))"
   ]
  }
 ],
 "metadata": {
  "kernelspec": {
   "display_name": ".venv",
   "language": "python",
   "name": "python3"
  },
  "language_info": {
   "codemirror_mode": {
    "name": "ipython",
    "version": 3
   },
   "file_extension": ".py",
   "mimetype": "text/x-python",
   "name": "python",
   "nbconvert_exporter": "python",
   "pygments_lexer": "ipython3",
   "version": "3.13.0"
  }
 },
 "nbformat": 4,
 "nbformat_minor": 2
}
