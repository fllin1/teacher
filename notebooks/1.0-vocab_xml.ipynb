{
 "cells": [
  {
   "cell_type": "markdown",
   "metadata": {},
   "source": [
    "# Libraries"
   ]
  },
  {
   "cell_type": "code",
   "execution_count": 63,
   "metadata": {},
   "outputs": [],
   "source": [
    "import json\n",
    "from typing import Any, Union\n",
    "\n",
    "from lxml import etree"
   ]
  },
  {
   "cell_type": "markdown",
   "metadata": {},
   "source": [
    "# Functions"
   ]
  },
  {
   "cell_type": "markdown",
   "metadata": {},
   "source": [
    "## Data Load"
   ]
  },
  {
   "cell_type": "code",
   "execution_count": 65,
   "metadata": {},
   "outputs": [],
   "source": [
    "def convert_to_list (value: Any) -> list:\n",
    "    if type(value) is not list:\n",
    "        value = [value]\n",
    "    return value\n",
    "\n",
    "def save_json(vocab, path):\n",
    "    \"\"\"\n",
    "    Save progress to a JSON file.\n",
    "\n",
    "    Args:\n",
    "        vocab (dict): The vocabulary dictionary to save.\n",
    "        path (Path): The path to the JSON file.\n",
    "    \"\"\"\n",
    "    with open(path, \"w\", encoding=\"utf-8\") as f:\n",
    "        json.dump(vocab, f, indent=4, ensure_ascii=False)\n",
    "    print(f\"Progress saved to {path}\")"
   ]
  },
  {
   "cell_type": "markdown",
   "metadata": {},
   "source": [
    "## Data Processing"
   ]
  },
  {
   "cell_type": "code",
   "execution_count": null,
   "metadata": {},
   "outputs": [],
   "source": [
    "def get_cards(root: etree.Element) -> list:\n",
    "    cards = []\n",
    "    for card in root.find('cards').findall('card'):    \n",
    "        \n",
    "        entry = card.find('entry')\n",
    "        try:\n",
    "            definition = entry.find('defn').text\n",
    "            category = card.find('catassign').attrib['category'] \n",
    "            if \"Cours1\" in category or \"Cours2\" in category or \"Cours3\" in category:\n",
    "                continue\n",
    "        except AttributeError:\n",
    "            definition = None\n",
    "            category = None\n",
    "        \n",
    "        headword = entry.find('headword').text\n",
    "        pronunciation = entry.find('pron').text\n",
    "        \n",
    "        score_info = card.find('scoreinfo')\n",
    "        \n",
    "        card_details = {\n",
    "            'character': headword,\n",
    "            'pronunciation': pronunciation,\n",
    "            'traduction': definition,\n",
    "            'category': category,\n",
    "            'score': score_info.attrib.get('score') if score_info is not None else None,\n",
    "            'difficulty': score_info.attrib.get('difficulty') if score_info is not None else None,\n",
    "            'correct': score_info.attrib.get('correct') if score_info is not None else None,\n",
    "            'incorrect': score_info.attrib.get('incorrect') if score_info is not None else None,\n",
    "            'reviewed': score_info.attrib.get('reviewed') if score_info is not None else None,\n",
    "        }\n",
    "        \n",
    "        cards.append(card_details)\n",
    "\n",
    "    return cards"
   ]
  },
  {
   "cell_type": "code",
   "execution_count": 68,
   "metadata": {},
   "outputs": [],
   "source": [
    "def remove_cards_by_categories(root, keywords: Union[list, str]) -> etree.Element:\n",
    "    \"\"\"\n",
    "    Remove all cards where the category contains any keyword from a list.\n",
    "\n",
    "    Args:\n",
    "        root (xml.etree.ElementTree.Element): The root of the XML tree.\n",
    "        keywords (Union[list, str]): A list of keywords to match against the category.\n",
    "\n",
    "    Returns:\n",
    "        xml.etree.ElementTree.Element: The modified root element.\n",
    "    \"\"\"\n",
    "    keywords = convert_to_list(keywords)\n",
    "    cards = root.find('cards')  # Locate the <cards> section\n",
    "    for card in list(cards):  # Iterate over a copy of the cards to avoid runtime issues\n",
    "        catassign = card.find('catassign')  # Locate the <catassign> element\n",
    "        if catassign is not None:  # Ensure <catassign> exists\n",
    "            category = catassign.attrib.get('category', '')  # Default to an empty string if 'category' is missing\n",
    "            if any(keyword.lower() in category.lower() for keyword in keywords):  # Match any keyword\n",
    "                cards.remove(card)\n",
    "    return root\n"
   ]
  },
  {
   "cell_type": "markdown",
   "metadata": {},
   "source": [
    "# Run"
   ]
  },
  {
   "cell_type": "code",
   "execution_count": 72,
   "metadata": {},
   "outputs": [],
   "source": [
    "tree = etree.parse('../data/raw/flash-2411112247.xml')\n",
    "root = tree.getroot()\n",
    "\n",
    "remove_categories = ['Cours1 ', 'Cours2 ', 'Cours3 ', 'Question Answer Voca']\n",
    "card_details = remove_cards_by_categories(root, remove_categories)\n",
    "\n",
    "card_details = get_cards(card_details)"
   ]
  },
  {
   "cell_type": "code",
   "execution_count": 75,
   "metadata": {},
   "outputs": [],
   "source": [
    "for word in card_details:\n",
    "    if word['headword'] == \"特别\":\n",
    "        target_word = word\n",
    "        break\n",
    "definition = target_word['definition']"
   ]
  },
  {
   "cell_type": "code",
   "execution_count": 78,
   "metadata": {},
   "outputs": [
    {
     "name": "stdout",
     "output_type": "stream",
     "text": [
      "['(shuí)', '1', 'Daurade', 'T-shirt', 'adjective', 'adverb', 'affix', 'argumentation', 'auxiliary', 'be', 'come', 'idiom', 'man', 'mother’s', 'noun', 'preposition', 'pronoun', 'salmon', 'short', 'surname', 'take', 'to', 'verb']\n"
     ]
    }
   ],
   "source": [
    "word_family = []\n",
    "for word in card_details:\n",
    "    if word['definition'] is None:\n",
    "        continue\n",
    "    family = word['definition'].split(\" \")[0]\n",
    "    if family not in word_family:\n",
    "        word_family.append(family)\n",
    "word_family = sorted(word_family)\n",
    "print(word_family)"
   ]
  },
  {
   "cell_type": "code",
   "execution_count": 81,
   "metadata": {},
   "outputs": [
    {
     "data": {
      "text/plain": [
       "['adjective special; particular; out of the ordinary 特別的愛好 tèbié de àihào an unusual hobby 他的口音很特別。 Tā de kǒuyin hěn tèbié. He has a peculiar accent. 這棟樓的設計沒有什麼特別的地方。 Zhè dòng lóu de shèjì méiyǒu shénmetèbié de dìfang. The design of this building is nothing out of the ordinary. 這種花每當夜晚就散發出一種特別的香味兒。 Zhèzhǒng huā měidāng yèwǎn jiù sànfā chū yī zhǒng tèbié de xiāngwèir. As evening approaches, this flower gives off a distinctive fragrance. ',\n",
       " \"adverb 1 especially; particularly 質量特別好 zhìliàng tèbié hǎo of extra fine quality 工作特別努力 Gōngzuò tèbié nǔlì especially hard-working 建設一支特別能戰鬥的隊伍 jiànshè yī zhī tèbié néng zhàndòu de duìwu train a contingent of exceptional fighters 今天特別熱。 Jīntiān tèbié rè. It’s extremely hot today. 這個報告特別有教育意義。 zhège bàogào tèbié yǒu jiàoyù yìyì. The talk was particularly instructive. 2 for a special purpose; specially; deliberately 他臨走時特別去向女主人道謝。 Tā línzǒu shí tèbié qùxiàng nǚzhǔrén dàoxiè. He made a point of thanking his hostess before he left the party. 這些花是我特別為你摘的。 Zhèxiē huā shì wǒ tèbié wèi nǐ zhāi de. I picked these flowers specially for you. 3 all the more; in particular 他喜愛體育, 特別是籃球。 Tā xǐ'ài tǐyù, tèbié shì lánqiú. He loves sports, particularly basketball. 這裡最需要醫務人員, 特別是外科醫生。 Zhèlǐ zuì xūyào yīwù rényuán, tèbié shì wàikē yīshēng. There’s a huge need for medical workers here, especially surgeons.\"]"
      ]
     },
     "execution_count": 81,
     "metadata": {},
     "output_type": "execute_result"
    }
   ],
   "source": [
    "definition.split(\"\\n\")"
   ]
  },
  {
   "cell_type": "code",
   "execution_count": null,
   "metadata": {},
   "outputs": [
    {
     "name": "stdout",
     "output_type": "stream",
     "text": [
      "{'adjective': [{'definition': 'special; particular; out of the ordinary 特別的愛好 '\n",
      "                              'tèbié de àihào an unusual hobby 他的口音很特別。 Tā de '\n",
      "                              'kǒuyin hěn tèbié.',\n",
      "                'examples': ['He has a peculiar accent.',\n",
      "                             '這棟樓的設計沒有什麼特別的地方。 Zhè dòng lóu de shèjì méiyǒu '\n",
      "                             'shénme tèbié de dìfang.',\n",
      "                             'The design of this building is nothing out of '\n",
      "                             'the ordinary.',\n",
      "                             '這種花每當夜晚就散發出一種特別的香味兒。 Zhèzhǒng huā měidāng yèwǎn '\n",
      "                             'jiù sànfā chū yī zhǒng tèbié de xiāngwèir.',\n",
      "                             'As evening approaches, this flower gives off a '\n",
      "                             'distinctive fragrance.']}],\n",
      " 'adverb': [{'definition': 'especially; particularly 質量特別好 zhìliàng tèbié hǎo '\n",
      "                           'of extra fine quality 工作特別努力 Gōngzuò tèbié nǔlì '\n",
      "                           'especially hard-working 建設一支特別能戰鬥的隊伍 jiànshè yī '\n",
      "                           'zhī tèbié néng zhàndòu de duìwu train a contingent '\n",
      "                           'of exceptional fighters 今天特別熱。 Jīntiān tèbié rè.',\n",
      "             'examples': ['It’s extremely hot today.',\n",
      "                          '這個報告特別有教育意義。 zhège bàogào tèbié yǒu jiàoyù yìyì.',\n",
      "                          'The talk was particularly instructive.']},\n",
      "            {'definition': 'for a special purpose; specially; deliberately '\n",
      "                           '他臨走時特別去向女主人道謝。 Tā línzǒu shí tèbié qù xiàng '\n",
      "                           'nǚzhǔrén dàoxiè.',\n",
      "             'examples': ['He made a point of thanking his hostess before he '\n",
      "                          'left the party.',\n",
      "                          '這些花是我特別為你摘的。 Zhèxiē huā shì wǒ tèbié wèi nǐ zhāi '\n",
      "                          'de.',\n",
      "                          'I picked these flowers specially for you.']},\n",
      "            {'definition': \"all the more; in particular 他喜愛體育, 特別是籃球。 Tā xǐ'ài \"\n",
      "                           'tǐyù, tèbié shì lánqiú.',\n",
      "             'examples': ['He loves sports, particularly basketball.',\n",
      "                          '這裡最需要醫務人員, 特別是外科醫生。 Zhèlǐ zuì xūyào yīwù rényuán, '\n",
      "                          'tèbié shì wàikē yīshēng.',\n",
      "                          'There’s a huge need for medical workers here, '\n",
      "                          'especially surgeons.']}]}\n"
     ]
    }
   ],
   "source": [
    "import re\n",
    "from typing import List, Dict\n",
    "\n",
    "def parse_chinese_definition(definition: str) -> Dict[str, List[Dict[str, List[str]]]]:\n",
    "    \"\"\"\n",
    "    Parses a Chinese word definition into structured categories, definitions, and examples.\n",
    "    \n",
    "    Args:\n",
    "        definition (str): The raw definition text.\n",
    "    \n",
    "    Returns:\n",
    "        Dict[str, List[Dict[str, List[str]]]]: A dictionary where each key is a part of speech,\n",
    "        and each value is a list of definitions with their examples.\n",
    "    \"\"\"\n",
    "    # Liste des catégories grammaticales possibles\n",
    "    parts_of_speech = [\n",
    "        'adjective',\n",
    "        'adverb',\n",
    "        'affix',\n",
    "        'auxiliary',\n",
    "        'idiom',\n",
    "        'noun',\n",
    "        'preposition',\n",
    "        'pronoun',\n",
    "        'surname',\n",
    "        'verb'\n",
    "    ]\n",
    "\n",
    "    # Préparation du motif regex pour trouver les catégories grammaticales\n",
    "    pos_pattern = r'\\b(' + '|'.join(parts_of_speech) + r')\\b'\n",
    "\n",
    "    # Trouver toutes les occurrences des catégories grammaticales dans le texte\n",
    "    matches = list(re.finditer(pos_pattern, definition))\n",
    "\n",
    "    # Si aucune catégorie n'est trouvée, retourner un dictionnaire vide\n",
    "    if not matches:\n",
    "        return {}\n",
    "\n",
    "    parsed_data = {}\n",
    "\n",
    "    # Ajouter une position de fin pour faciliter le découpage\n",
    "    positions = [match.start() for match in matches] + [len(definition)]\n",
    "    parts = [match.group(1) for match in matches]\n",
    "\n",
    "    # Parcourir chaque segment entre les catégories grammaticales\n",
    "    for idx, pos in enumerate(positions[:-1]):\n",
    "        current_pos = parts[idx]\n",
    "        start_idx = pos\n",
    "        end_idx = positions[idx+1]\n",
    "        text = definition[start_idx:end_idx].strip()\n",
    "        # Supprimer la catégorie grammaticale du début du texte\n",
    "        text = re.sub(r'^\\b' + re.escape(current_pos) + r'\\b', '', text).strip()\n",
    "        definitions = split_definitions(text)\n",
    "        parsed_data[current_pos] = definitions\n",
    "\n",
    "    return parsed_data\n",
    "\n",
    "def split_definitions(text: str) -> List[Dict[str, List[str]]]:\n",
    "    \"\"\"\n",
    "    Splits the text into individual definitions and their examples.\n",
    "    \n",
    "    Args:\n",
    "        text (str): The text containing definitions and examples.\n",
    "    \n",
    "    Returns:\n",
    "        List[Dict[str, List[str]]]: A list of dictionaries with 'definition' and 'examples'.\n",
    "    \"\"\"\n",
    "    definitions = []\n",
    "    # Séparer les définitions numérotées ou les différentes entrées\n",
    "    def_splits = re.split(r'(?=\\d+\\s)', text)\n",
    "    for def_text in def_splits:\n",
    "        def_text = def_text.strip()\n",
    "        if not def_text:\n",
    "            continue\n",
    "        # Extraire le numéro de définition s'il existe\n",
    "        match = re.match(r'^(\\d+)\\s', def_text)\n",
    "        if match:\n",
    "            def_number = match.group(1)\n",
    "            def_text = def_text[len(def_number):].strip()\n",
    "        else:\n",
    "            def_number = None\n",
    "        # Séparer la définition des exemples\n",
    "        example_splits = re.split(r'(?<=\\.)\\s+', def_text)\n",
    "        definition = example_splits[0]\n",
    "        examples = example_splits[1:] if len(example_splits) > 1 else []\n",
    "        # Nettoyer les exemples pour éliminer les espaces inutiles\n",
    "        examples = [ex.strip() for ex in examples if ex.strip()]\n",
    "        definitions.append({\n",
    "            'definition': definition,\n",
    "            'examples': examples\n",
    "        })\n",
    "    return definitions\n"
   ]
  },
  {
   "cell_type": "code",
   "execution_count": 86,
   "metadata": {},
   "outputs": [
    {
     "data": {
      "text/plain": [
       "{'adjective': [{'definition': 'adjective', 'examples': []}],\n",
       " 'adverb': [{'definition': 'adverb', 'examples': []}]}"
      ]
     },
     "execution_count": 86,
     "metadata": {},
     "output_type": "execute_result"
    }
   ],
   "source": [
    "parsed_result"
   ]
  },
  {
   "cell_type": "code",
   "execution_count": null,
   "metadata": {},
   "outputs": [],
   "source": [
    "save_json(cards, '../data/processed/chinese_cards.json')"
   ]
  }
 ],
 "metadata": {
  "kernelspec": {
   "display_name": ".venv",
   "language": "python",
   "name": "python3"
  },
  "language_info": {
   "codemirror_mode": {
    "name": "ipython",
    "version": 3
   },
   "file_extension": ".py",
   "mimetype": "text/x-python",
   "name": "python",
   "nbconvert_exporter": "python",
   "pygments_lexer": "ipython3",
   "version": "3.13.0"
  }
 },
 "nbformat": 4,
 "nbformat_minor": 2
}
